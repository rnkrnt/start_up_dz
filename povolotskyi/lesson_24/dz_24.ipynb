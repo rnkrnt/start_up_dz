{
 "cells": [
  {
   "cell_type": "markdown",
   "id": "917def62",
   "metadata": {},
   "source": [
    "# Завдання 1"
   ]
  },
  {
   "cell_type": "markdown",
   "id": "3fb1155c",
   "metadata": {},
   "source": [
    "$ H_1 $ - документ заповнив перший економіст"
   ]
  },
  {
   "cell_type": "markdown",
   "id": "20f6937d",
   "metadata": {},
   "source": [
    "$ H_2 $ - документ заповнив перший економіст"
   ]
  },
  {
   "cell_type": "markdown",
   "id": "7028d473",
   "metadata": {},
   "source": [
    "$ A $ -  навмання взятий із папки документ виявився з суттєвою похибкою"
   ]
  },
  {
   "cell_type": "markdown",
   "id": "6e9f1721",
   "metadata": {},
   "source": [
    "$$\n",
    "P(H_1) = \\frac{40}{100} = 0.4; P(H_2) = \\frac{60}{100} = 0.6;\n",
    "$$"
   ]
  },
  {
   "cell_type": "markdown",
   "id": "4787a59c",
   "metadata": {},
   "source": [
    "$$\n",
    "p(A|H_1) = 0.1; p(A|H_2) = 0.2;\n",
    "$$"
   ]
  },
  {
   "cell_type": "markdown",
   "id": "2df6b4b1",
   "metadata": {},
   "source": [
    "За формулою повної ймовірності:"
   ]
  },
  {
   "cell_type": "markdown",
   "id": "2346c385",
   "metadata": {},
   "source": [
    "$$\n",
    "P(A) = P(H_1)p(A|H_1)+P(H_2)p(A|H_2) = 0.4\\cdot0.1+0.6\\cdot0.2 = 0.16\n",
    "$$"
   ]
  },
  {
   "cell_type": "markdown",
   "id": "b3d387f2",
   "metadata": {},
   "source": [
    "За формулою Байєса отримаємо:"
   ]
  },
  {
   "cell_type": "markdown",
   "id": "b7ae9b41",
   "metadata": {},
   "source": [
    "$$\n",
    "P(H_1|A) = \\frac{P(H_1)p(A|H_1)}{P(A)} = \\frac{0.4\\cdot0.1}{0.16} =0.25\n",
    "$$"
   ]
  },
  {
   "cell_type": "markdown",
   "id": "55584821",
   "metadata": {},
   "source": [
    "Ймовірність заповнення документа з суттєвою похибкою першим економістом: $$P(H_1|A) = 0.25$$"
   ]
  },
  {
   "cell_type": "markdown",
   "id": "c03dddcb",
   "metadata": {},
   "source": [
    "# Завдання 2"
   ]
  },
  {
   "cell_type": "markdown",
   "id": "98019620",
   "metadata": {},
   "source": [
    "Математичне очікування для обох варіантів:"
   ]
  },
  {
   "cell_type": "markdown",
   "id": "d2081975",
   "metadata": {},
   "source": [
    "$$\n",
    "M(X) = x_1p_1+x_2p_2+x_3p_3 = 1000\\cdot0.5+1500\\cdot0.3+2000\\cdot0.2=1350\n",
    "$$"
   ]
  },
  {
   "cell_type": "markdown",
   "id": "bfe6cdba",
   "metadata": {},
   "source": [
    "$$\n",
    "M(Y) = y_1p_1+y_2p_2+y_3p_3 = 1000\\cdot0.4+1500\\cdot0.4+1750\\cdot0.2=1350\n",
    "$$"
   ]
  },
  {
   "cell_type": "markdown",
   "id": "9a1bf2f0",
   "metadata": {},
   "source": [
    "Обидва варіанти мають однаковий очікуваний дохід, оскільки $ M(X)=M(Y)=1350 $. Але мінливість результату не однакова. Цю мінливість мона сприйняти, як ступінь (міру) ризику та обчислити за допомогою дисперсії."
   ]
  },
  {
   "cell_type": "markdown",
   "id": "5236a52e",
   "metadata": {},
   "source": [
    "$$\n",
    "\\sigma^2(x) = (x_1 - M(x))^2 \\cdot p_1 + (x_2 - M(x))^2 \\cdot p_2 + (x_3 - M(x))^2 \\cdot p_3 = (1000-1350)^2 \\cdot 0.5 + (1500-1350)^2 \\cdot 0.3 + (2000-1350)^2 \\cdot 0.2 = 152500\n",
    "$$"
   ]
  },
  {
   "cell_type": "markdown",
   "id": "155756a4",
   "metadata": {},
   "source": [
    "$$\n",
    "\\sigma^2(y) = (y_1 - M(y))^2 \\cdot p_1 + (y_2 - M(y))^2 \\cdot p_2 + (y_3 - M(y))^2 \\cdot p_3 = (1000-1350)^2 \\cdot 0.4 + (1500-1350)^2 \\cdot 0.4 + (1750-1350)^2 \\cdot 0.2 = 90000\n",
    "$$"
   ]
  },
  {
   "cell_type": "markdown",
   "id": "b447b54a",
   "metadata": {},
   "source": [
    "Оскільки ступінь ризику, що пов'язаний  з випуском та реалізацією товарів широкого вжитку за першим варіантом більше ніж другий, то другий варіант є менш ризиковий ніж перший."
   ]
  }
 ],
 "metadata": {
  "kernelspec": {
   "display_name": "Python 3 (ipykernel)",
   "language": "python",
   "name": "python3"
  },
  "language_info": {
   "codemirror_mode": {
    "name": "ipython",
    "version": 3
   },
   "file_extension": ".py",
   "mimetype": "text/x-python",
   "name": "python",
   "nbconvert_exporter": "python",
   "pygments_lexer": "ipython3",
   "version": "3.11.1"
  }
 },
 "nbformat": 4,
 "nbformat_minor": 5
}
