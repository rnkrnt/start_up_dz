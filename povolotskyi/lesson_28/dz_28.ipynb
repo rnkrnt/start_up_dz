{
 "cells": [
  {
   "cell_type": "markdown",
   "id": "6572bf18",
   "metadata": {},
   "source": [
    "# Завдання 1"
   ]
  },
  {
   "cell_type": "markdown",
   "id": "c48bcff9",
   "metadata": {},
   "source": [
    "За даними розподілу обчислимо вибіркове середнє:"
   ]
  },
  {
   "cell_type": "markdown",
   "id": "ba84d9e4",
   "metadata": {},
   "source": [
    "$$\n",
    "\\bar{x_в} = \\frac{1}{n}\\displaystyle\\sum_{i=1}^{k} x_in_i = \\frac{1 \\cdot 2 + 2 \\cdot 3 + 4 \\cdot 10 + 6 \\cdot 3 + 7 \\cdot 2}{20}=4\n",
    "$$"
   ]
  },
  {
   "cell_type": "markdown",
   "id": "47d38611",
   "metadata": {},
   "source": [
    "Знайдемо виправлену дисперсію:"
   ]
  },
  {
   "cell_type": "markdown",
   "id": "d60c63bf",
   "metadata": {},
   "source": [
    "$$\n",
    "\\sigma^2 =s^2= \\frac{1}{n-1}\\displaystyle\\sum_{i=1}^{k} (x_i-\\bar{x_в})^2n_i =\n",
    "$$"
   ]
  },
  {
   "cell_type": "markdown",
   "id": "68ac412f",
   "metadata": {},
   "source": [
    "$$\n",
    "= \\frac{(1-4)^2\\cdot2 + (2-4)^2\\cdot3 + (4-4)^2\\cdot10 +(6-4)^2\\cdot3 + (7-4)^2\\cdot2}{19} = 3.2\n",
    "$$"
   ]
  },
  {
   "cell_type": "markdown",
   "id": "820efd79",
   "metadata": {},
   "source": [
    "Виправлене середнє квадратичне відхилення:"
   ]
  },
  {
   "cell_type": "markdown",
   "id": "281e5b22",
   "metadata": {},
   "source": [
    "$$\n",
    "s = \\sqrt{s^2} = \\sqrt{3.2} = 1.79\n",
    "$$"
   ]
  },
  {
   "cell_type": "markdown",
   "id": "a3795f73",
   "metadata": {},
   "source": [
    "Із таблиці, для $n=20$ та $\\gamma=0.95$ знаходимо $q=0.37$.\n",
    "Так як $q<1$, то використовуємо наступну формулу для довірчого інтервалу:"
   ]
  },
  {
   "cell_type": "markdown",
   "id": "166e539a",
   "metadata": {},
   "source": [
    "$$\n",
    "s(1-q)<\\sigma<s(1+q)\n",
    "$$"
   ]
  },
  {
   "cell_type": "markdown",
   "id": "7910146a",
   "metadata": {},
   "source": [
    "Кінці інтервалу:"
   ]
  },
  {
   "cell_type": "markdown",
   "id": "41c01631",
   "metadata": {},
   "source": [
    "$$\n",
    "s(1-q)=1.79\\cdot(1-0.37) = 1.13; s(1+q)=1.79\\cdot(1+0.37) = 2.45\n",
    "$$"
   ]
  },
  {
   "cell_type": "markdown",
   "id": "15c61a1a",
   "metadata": {},
   "source": [
    "Таким чином, довірчий інтервал $(1.13;2.45)$ покриває середнє квадратичне відхилення $\\sigma$ генеральної сукупності з надійністю $\\gamma = 0.95$"
   ]
  },
  {
   "cell_type": "markdown",
   "id": "9739e48e",
   "metadata": {},
   "source": [
    "# Завдання 2"
   ]
  },
  {
   "cell_type": "markdown",
   "id": "4bd6e471",
   "metadata": {},
   "source": [
    "Параметр $t$ знаходимо із таблиці для інтегральної функції Лапласа:"
   ]
  },
  {
   "cell_type": "markdown",
   "id": "70be1e55",
   "metadata": {},
   "source": [
    "$$\n",
    "Ф(t) = 0.95/2 = 0.475\n",
    "$$"
   ]
  },
  {
   "cell_type": "markdown",
   "id": "f109a2d4",
   "metadata": {},
   "source": [
    "Звідси $t=1.96$ "
   ]
  },
  {
   "cell_type": "markdown",
   "id": "af1dfa0c",
   "metadata": {},
   "source": [
    "Обчислимо межі довірчого інтервалу:"
   ]
  },
  {
   "cell_type": "markdown",
   "id": "2d10c18c",
   "metadata": {},
   "source": [
    "$$\n",
    "p_1 = \\frac{1}{t^2+n}\\Bigg(m+\\frac{t^2}{2}-t\\sqrt{\\frac{m(n-m)}{n}+\\frac{t^2}{4}}\\Bigg)=\n",
    "$$"
   ]
  },
  {
   "cell_type": "markdown",
   "id": "3b897094",
   "metadata": {},
   "source": [
    "$$\n",
    " = \\frac{1}{1.96^2+100}\\Bigg(40+\\frac{1.96^2}{2}-1.96\\sqrt{\\frac{40\\cdot60}{100}+\\frac{1.96^2}{4}}\\Bigg)=0.31\n",
    "$$"
   ]
  },
  {
   "cell_type": "markdown",
   "id": "6958c41a",
   "metadata": {},
   "source": [
    "$$\n",
    "p_2 = \\frac{1}{t^2+n}\\Bigg(m+\\frac{t^2}{2}+t\\sqrt{\\frac{m(n-m)}{n}+\\frac{t^2}{4}}\\Bigg)=\n",
    "$$"
   ]
  },
  {
   "cell_type": "markdown",
   "id": "3caf57f9",
   "metadata": {},
   "source": [
    "$$\n",
    " = \\frac{1}{1.96^2+100}\\Bigg(40+\\frac{1.96^2}{2}+1.96\\sqrt{\\frac{40\\cdot60}{100}+\\frac{1.96^2}{4}}\\Bigg)=0.49\n",
    "$$"
   ]
  },
  {
   "cell_type": "markdown",
   "id": "d28d75e1",
   "metadata": {},
   "source": [
    "Отже, інтервальною оцінкою для ймовірності настання події $А$ буде довірчий інтервал $(0.31;0.49)$."
   ]
  },
  {
   "cell_type": "markdown",
   "id": "167fcbaf",
   "metadata": {},
   "source": [
    "# Завдання 3"
   ]
  },
  {
   "cell_type": "markdown",
   "id": "707cea0a",
   "metadata": {},
   "source": [
    "Параметр $t$ знаходимо із таблиці для інтегральної функції Лапласа:"
   ]
  },
  {
   "cell_type": "markdown",
   "id": "567ebc5f",
   "metadata": {},
   "source": [
    "$$\n",
    "Ф(t) = 0.99/2 = 0.495\n",
    "$$"
   ]
  },
  {
   "cell_type": "markdown",
   "id": "9240f2b1",
   "metadata": {},
   "source": [
    "Звідси $t=2.58$ "
   ]
  },
  {
   "cell_type": "markdown",
   "id": "9d093ba8",
   "metadata": {},
   "source": [
    "Об’єм вибірки дорівнює:"
   ]
  },
  {
   "cell_type": "markdown",
   "id": "5843a759",
   "metadata": {},
   "source": [
    "$$\n",
    "n = \\frac{t^2 \\sigma^2}{\\delta^2} = \\frac{2.58^2 \\cdot 3^2}{0.6^2} = 166\n",
    "$$"
   ]
  }
 ],
 "metadata": {
  "kernelspec": {
   "display_name": "Python 3 (ipykernel)",
   "language": "python",
   "name": "python3"
  },
  "language_info": {
   "codemirror_mode": {
    "name": "ipython",
    "version": 3
   },
   "file_extension": ".py",
   "mimetype": "text/x-python",
   "name": "python",
   "nbconvert_exporter": "python",
   "pygments_lexer": "ipython3",
   "version": "3.11.1"
  }
 },
 "nbformat": 4,
 "nbformat_minor": 5
}
