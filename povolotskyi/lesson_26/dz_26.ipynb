{
 "cells": [
  {
   "cell_type": "markdown",
   "id": "3aa97e1f",
   "metadata": {},
   "source": [
    "# Завдання 1"
   ]
  },
  {
   "cell_type": "markdown",
   "id": "08660318",
   "metadata": {},
   "source": [
    "Дискретна випадкова величина $X$ - число телевізорів, які витримають гарантійний термін роботі, має біномінальний  закон розподілу ймовірності, тому:"
   ]
  },
  {
   "cell_type": "markdown",
   "id": "e0f5064c",
   "metadata": {},
   "source": [
    "$$\n",
    "M(X) = np = 100 \\cdot 0.9 = 90\n",
    "$$"
   ]
  },
  {
   "cell_type": "markdown",
   "id": "831daa4f",
   "metadata": {},
   "source": [
    "$$\n",
    "D(X) = npq = 100 \\cdot 0.9 \\cdot 0.1 = 9\n",
    "$$"
   ]
  },
  {
   "cell_type": "markdown",
   "id": "b0c4ed9c",
   "metadata": {},
   "source": [
    "$$\n",
    "\\varepsilon = 95-90 = |85-90|=5\n",
    "$$"
   ]
  },
  {
   "cell_type": "markdown",
   "id": "c3d59902",
   "metadata": {},
   "source": [
    "Використаємо нерівність Чебишива:"
   ]
  },
  {
   "cell_type": "markdown",
   "id": "7f18e519",
   "metadata": {},
   "source": [
    "$$\n",
    "P(|X-90|<5) \\geq 1 - 9/25 = 16/25\n",
    "$$"
   ]
  },
  {
   "cell_type": "markdown",
   "id": "a8556eaf",
   "metadata": {},
   "source": [
    "# Завдання 2"
   ]
  },
  {
   "cell_type": "markdown",
   "id": "6cb02ad5",
   "metadata": {},
   "source": [
    "Дискретний статистичний розподіл з відносними частотами у табличному вигляді"
   ]
  },
  {
   "cell_type": "markdown",
   "id": "8abddf84",
   "metadata": {},
   "source": [
    "\\begin{array}{|c|c|}\n",
    "  \\hline\n",
    "  X=x_i & 6 & 7 & 8 & 9 & 10 & 11 & 12 & 13 & 14 &   \\\\ \n",
    "  \\hline\n",
    "  n_i   & 1 & 3 & 6 & 8 & 6 & 6 & 5 & 3 & 2 & i=40 \\\\\n",
    "  \\hline\n",
    "  w_i   & 0.025 & 0.075 & 0.15 & 0.2 & 0.15 & 0.15 & 0.125 & 0.075 & 0.05 & 1  \\\\\n",
    "  \\hline\n",
    " \\end{array}"
   ]
  },
  {
   "cell_type": "markdown",
   "id": "f718279e",
   "metadata": {},
   "source": [
    "Графічне зображення полігона частот"
   ]
  },
  {
   "cell_type": "markdown",
   "id": "5e279d06",
   "metadata": {},
   "source": [
    "![Полігон частот](Полігон_частот.png \"Полігон частот\")"
   ]
  },
  {
   "cell_type": "markdown",
   "id": "f4118e6f",
   "metadata": {},
   "source": [
    "Емпірична функція $F^*(x)$ (комулята):"
   ]
  },
  {
   "cell_type": "markdown",
   "id": "fc06a56c",
   "metadata": {},
   "source": [
    "$$\n",
    "F^*(x) = W(x)<x=\\frac{n_x}{n} =\n",
    "  \\begin{cases}\n",
    "    0       & \\quad      x \\leq 6   \\\\\n",
    "    0.025   & \\quad 6  < x \\leq 7   \\\\\n",
    "    0.1     & \\quad 7  < x \\leq 8   \\\\\n",
    "    0.25    & \\quad 8  < x \\leq 9   \\\\\n",
    "    0.45    & \\quad 9  < x \\leq 10  \\\\\n",
    "    0.6     & \\quad 10 < x \\leq 11  \\\\\n",
    "    0.75    & \\quad 11 < x \\leq 12  \\\\\n",
    "    0.875   & \\quad 12 < x \\leq 13  \\\\\n",
    "    0.95    & \\quad 13 < x \\leq 14  \\\\\n",
    "    1       & \\quad      x > 14     \\\\\n",
    "  \\end{cases}\n",
    "\\\n",
    "$$"
   ]
  },
  {
   "cell_type": "markdown",
   "id": "147611bb",
   "metadata": {},
   "source": [
    "Графічне зображення комуляти"
   ]
  },
  {
   "cell_type": "markdown",
   "id": "10f00d11",
   "metadata": {},
   "source": [
    "![Комулята](Комулята.png \"Комулята\")"
   ]
  },
  {
   "cell_type": "markdown",
   "id": "3b0f5caf",
   "metadata": {},
   "source": [
    "Мода. $M_0^* = 9$ т.я. найбільша частота появи складає $0.2$ саме у варіанти $9$."
   ]
  },
  {
   "cell_type": "markdown",
   "id": "b50c27da",
   "metadata": {},
   "source": [
    "Медіана. Маємо не парну кількість варіантів $(9)$. "
   ]
  },
  {
   "cell_type": "markdown",
   "id": "878b7cf5",
   "metadata": {},
   "source": [
    "$$\n",
    "9 = 2x+1 \\implies 9-1 =2x \\implies x_m = \\frac{9-1}{2}=4; M_e = x_m+1 =4+1 = 5\n",
    "$$"
   ]
  },
  {
   "cell_type": "markdown",
   "id": "43617bff",
   "metadata": {},
   "source": [
    "Медіана це $5$й варіант, тобто $M_e = 10$"
   ]
  }
 ],
 "metadata": {
  "kernelspec": {
   "display_name": "Python 3 (ipykernel)",
   "language": "python",
   "name": "python3"
  },
  "language_info": {
   "codemirror_mode": {
    "name": "ipython",
    "version": 3
   },
   "file_extension": ".py",
   "mimetype": "text/x-python",
   "name": "python",
   "nbconvert_exporter": "python",
   "pygments_lexer": "ipython3",
   "version": "3.11.1"
  }
 },
 "nbformat": 4,
 "nbformat_minor": 5
}
