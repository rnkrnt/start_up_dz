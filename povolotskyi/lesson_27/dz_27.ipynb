{
 "cells": [
  {
   "cell_type": "markdown",
   "id": "90d277c0",
   "metadata": {},
   "source": [
    "# Завдання 1"
   ]
  },
  {
   "cell_type": "markdown",
   "id": "9d5998bf",
   "metadata": {},
   "source": [
    "Умови задачі задовільняють усім законам пуасонівського розподілу:\n",
    "- велика кількість випробувань $n=10000$\n",
    "- імовірність близька до нуля $р=0,0007$;"
   ]
  },
  {
   "cell_type": "markdown",
   "id": "36253141",
   "metadata": {},
   "source": [
    "$$\n",
    "a=np=7<10\n",
    "$$"
   ]
  },
  {
   "cell_type": "markdown",
   "id": "984bb0bf",
   "metadata": {},
   "source": [
    "математичне сподівання $M(X)$:"
   ]
  },
  {
   "cell_type": "markdown",
   "id": "c8864fa9",
   "metadata": {},
   "source": [
    "$$\n",
    "M(X) = np = 10000 \\cdot 0.0007 = 7\n",
    "$$"
   ]
  },
  {
   "cell_type": "markdown",
   "id": "a1f57383",
   "metadata": {},
   "source": [
    "дисперсію:"
   ]
  },
  {
   "cell_type": "markdown",
   "id": "c74f1fb6",
   "metadata": {},
   "source": [
    "$$\n",
    "D(X) = M(X) = np = 10000 \\cdot 0.0007 = 7\n",
    "$$"
   ]
  },
  {
   "cell_type": "markdown",
   "id": "f6f40aa8",
   "metadata": {},
   "source": [
    "та середнє квадратичне відхилення:"
   ]
  },
  {
   "cell_type": "markdown",
   "id": "7719fcc3",
   "metadata": {},
   "source": [
    "$$\n",
    "\\sigma(x) = \\sqrt{np} = \\sqrt{7} \\approx 2.64\n",
    "$$"
   ]
  },
  {
   "cell_type": "markdown",
   "id": "2f236590",
   "metadata": {},
   "source": [
    "# Завдання 2"
   ]
  },
  {
   "cell_type": "markdown",
   "id": "76e50d96",
   "metadata": {},
   "source": [
    "Із умови задачі знаходимо:"
   ]
  },
  {
   "cell_type": "markdown",
   "id": "75c4a09b",
   "metadata": {},
   "source": [
    "$$\n",
    "n = 10000; p = \\frac{100-99.99}{100}=0.0001\n",
    "$$"
   ]
  },
  {
   "cell_type": "markdown",
   "id": "d1bc1090",
   "metadata": {},
   "source": [
    "За формулами знаходимо дисперсію і середнє квадратичне відхилення:"
   ]
  },
  {
   "cell_type": "markdown",
   "id": "390a44cc",
   "metadata": {},
   "source": [
    "$$\n",
    "D(X) = np = 1\n",
    "$$"
   ]
  },
  {
   "cell_type": "markdown",
   "id": "46b91714",
   "metadata": {},
   "source": [
    "$$\n",
    "\\sigma(x) = \\sqrt{np} = \\sqrt{1} = 1\n",
    "$$"
   ]
  }
 ],
 "metadata": {
  "kernelspec": {
   "display_name": "Python 3 (ipykernel)",
   "language": "python",
   "name": "python3"
  },
  "language_info": {
   "codemirror_mode": {
    "name": "ipython",
    "version": 3
   },
   "file_extension": ".py",
   "mimetype": "text/x-python",
   "name": "python",
   "nbconvert_exporter": "python",
   "pygments_lexer": "ipython3",
   "version": "3.11.1"
  }
 },
 "nbformat": 4,
 "nbformat_minor": 5
}
