{
 "cells": [
  {
   "cell_type": "markdown",
   "id": "38ef43b2",
   "metadata": {},
   "source": [
    "Перетворення матрриці А до верхньої трикутної"
   ]
  },
  {
   "cell_type": "markdown",
   "id": "804b49ee",
   "metadata": {},
   "source": [
    "$$A = \\begin{pmatrix}4 & 2 & 0 \\\\ 1 & 3 & 2 \\\\ -1 & 3 & 10\\end{pmatrix}$$"
   ]
  },
  {
   "cell_type": "markdown",
   "id": "fdc40364",
   "metadata": {},
   "source": [
    "Міняємо перший та другий рядок місцями"
   ]
  },
  {
   "cell_type": "markdown",
   "id": "25f11df9",
   "metadata": {},
   "source": [
    "$$\n",
    "\\begin{pmatrix} 4 & 2 & 0 \\\\ 1 & 3 & 2 \\\\ -1 & 3 & 10 \\end{pmatrix}\n",
    "\\sim\n",
    "\\begin{pmatrix} 1 & 3 & 2 \\\\ 4 & 2 & 0 \\\\ -1 & 3 & 10 \\end{pmatrix}\n",
    "\\sim\n",
    "$$"
   ]
  },
  {
   "cell_type": "markdown",
   "id": "70f2a99f",
   "metadata": {},
   "source": [
    "до 2-го рядка додати 1-ший, помножений на -4 ; до третього рядка додати перший"
   ]
  },
  {
   "cell_type": "markdown",
   "id": "11b94bca",
   "metadata": {},
   "source": [
    "$$\n",
    "\\sim\n",
    "\\begin{pmatrix} 1 & 3 & 2 \\\\ 4+(-4)\\cdot1 & 2+(-4)\\cdot3 & 0+(-4)\\cdot2 \\\\ -1+1 & 3+3 & 10+2 \\end{pmatrix}\n",
    "\\sim\n",
    "\\begin{pmatrix} 1 & 3 & 2 \\\\ 0 & -10 & -8 \\\\ 0 & 6 & 12 \\end{pmatrix}\n",
    "\\sim\n",
    "$$"
   ]
  },
  {
   "cell_type": "markdown",
   "id": "91efdf0a",
   "metadata": {},
   "source": [
    "2-ий рядок поділити на -2, третій рядок ділимо на 6"
   ]
  },
  {
   "cell_type": "markdown",
   "id": "d4403d46",
   "metadata": {},
   "source": [
    "$$\n",
    "\\sim\n",
    "\\begin{pmatrix} 1 & 3 & 2 \\\\ 0 & -10/(-2) & -8/(-2) \\\\ 0 & 6/6 & 12/6 \\end{pmatrix}\n",
    "\\sim\n",
    "\\begin{pmatrix} 1 & 3 & 2 \\\\ 0 & 5 & 4 \\\\ 0 & 1 & 2 \\end{pmatrix}\n",
    "\\sim\n",
    "$$"
   ]
  },
  {
   "cell_type": "markdown",
   "id": "3f024692",
   "metadata": {},
   "source": [
    "поміняємо другий та третій рядок місцями"
   ]
  },
  {
   "cell_type": "markdown",
   "id": "b78d46bb",
   "metadata": {},
   "source": [
    "$$\n",
    "\\sim\n",
    "\\begin{pmatrix} 1 & 3 & 2 \\\\ 0 & 1 & 2 \\\\ 0 & 5 & 4 \\end{pmatrix}\n",
    "\\sim\n",
    "$$"
   ]
  },
  {
   "cell_type": "markdown",
   "id": "ac7d1edf",
   "metadata": {},
   "source": [
    "до 3-тього рядка додамо 2-ий, помножений на -5"
   ]
  },
  {
   "cell_type": "markdown",
   "id": "12b412e4",
   "metadata": {},
   "source": [
    "$$\n",
    "\\sim\n",
    "\\begin{pmatrix} 1 & 3 & 2 \\\\ 0 & 1 & 2 \\\\ 0 & 5+(-5)\\cdot1 & 4+(-5)\\cdot2 \\end{pmatrix}\n",
    "\\sim\n",
    "\\begin{pmatrix} 1 & 3 & 2 \\\\ 0 & 1 & 2 \\\\ 0 & 0 & -6 \\end{pmatrix}\n",
    "$$"
   ]
  }
 ],
 "metadata": {
  "kernelspec": {
   "display_name": "Python 3 (ipykernel)",
   "language": "python",
   "name": "python3"
  },
  "language_info": {
   "codemirror_mode": {
    "name": "ipython",
    "version": 3
   },
   "file_extension": ".py",
   "mimetype": "text/x-python",
   "name": "python",
   "nbconvert_exporter": "python",
   "pygments_lexer": "ipython3",
   "version": "3.11.1"
  }
 },
 "nbformat": 4,
 "nbformat_minor": 5
}
