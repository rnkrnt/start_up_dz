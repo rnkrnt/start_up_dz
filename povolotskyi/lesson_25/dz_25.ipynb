{
 "cells": [
  {
   "cell_type": "markdown",
   "id": "7ac39434",
   "metadata": {},
   "source": [
    "# Завдання 1"
   ]
  },
  {
   "cell_type": "markdown",
   "id": "55eb4aae",
   "metadata": {},
   "source": [
    "Вірогідність отримати стандартну деталь $p = 0.6$. Отже вірогідність отримати браковану деталь буде протилежною, $q = 0.4$. Кількість можливих подій при яких усі 3 деталі з 3-х будуть або браковані, або стандартні $C = 1$. Кількість можливих подій при яких 1 або 2 деталі з 3-х будуть або браковані, або стандартні $C = 3$."
   ]
  },
  {
   "cell_type": "markdown",
   "id": "72495d87",
   "metadata": {},
   "source": [
    "\n",
    "\\begin{array}{c|c}  \n",
    "  Y \\ddots X & 0     & 1     & 2     & 3     & Pyi  \\\\ \n",
    "  \\hline\n",
    "  0          & 0     & 0     & 0     & C_0 \\cdot p^0 \\cdot q^3 & Py_0 \\\\ \n",
    "  \\hline\n",
    "  1          & 0     & 0     & C_1 \\cdot p^1 \\cdot q^2 & 0     & Py_1 \\\\ \n",
    "  \\hline\n",
    "  2          & 0     & C_2 \\cdot p^2 \\cdot q^1 & 0     & 0     & Py_2 \\\\ \n",
    "  \\hline\n",
    "  3          & C_3 \\cdot p^3 \\cdot q^0 & 0     & 0     & 0     & Py_3 \\\\ \n",
    "  \\hline\n",
    "  Pxj        & Px_0  & Px_1  & Px_2 & Px_3 & 1 \n",
    "\\end{array}\n"
   ]
  },
  {
   "cell_type": "markdown",
   "id": "f25ba633",
   "metadata": {},
   "source": [
    "Запишемо закон розподілу системи двох дискретних випадкових величин у табличному вигляді"
   ]
  },
  {
   "cell_type": "markdown",
   "id": "10a6d36c",
   "metadata": {},
   "source": [
    "\n",
    "\\begin{array}{c|c}  \n",
    "  Y \\ddots X & 0     & 1     & 2     & 3     & Pyi  \\\\ \n",
    "  \\hline\n",
    "  0          & 0     & 0     & 0     & 1 \\cdot 0.6^0 \\cdot 0.4^3 & Py_0 \\\\ \n",
    "  \\hline\n",
    "  1          & 0     & 0     & 3 \\cdot 0.6^1 \\cdot 0.4^2 & 0     & Py_1 \\\\ \n",
    "  \\hline\n",
    "  2          & 0     & 3 \\cdot 0.6^2 \\cdot 0.4^1 & 0     & 0     & Py_2 \\\\ \n",
    "  \\hline\n",
    "  3          & 1 \\cdot 0.6^3 \\cdot 0.4^0 & 0     & 0     & 0     & Py_3 \\\\ \n",
    "  \\hline\n",
    "  Pxj        & Px_0  & Px_1  & Px_2 & Px_3 & 1 \n",
    "\\end{array}\n"
   ]
  },
  {
   "cell_type": "markdown",
   "id": "06956de6",
   "metadata": {},
   "source": [
    "$$\n",
    "\\begin{array}{c|c}  \n",
    "  Y \\ddots X & 0     & 1     & 2     & 3     & Pyi  \\\\ \n",
    "  \\hline\n",
    "  0          & 0     & 0     & 0     & 0.064 & 0.064 \\\\ \n",
    "  \\hline\n",
    "  1          & 0     & 0     & 0.288 & 0     & 0.288 \\\\ \n",
    "  \\hline\n",
    "  2          & 0     & 0.432 & 0     & 0     & 0.432 \\\\ \n",
    "  \\hline\n",
    "  3          & 0.216 & 0     & 0     & 0     & 0.216 \\\\ \n",
    "  \\hline\n",
    "  Pxi        & 0.216 & 0.432 & 0.288 & 0.064 & 1 \n",
    "\\end{array}\n",
    "$$"
   ]
  },
  {
   "cell_type": "markdown",
   "id": "47b6a303",
   "metadata": {},
   "source": [
    "Математичне очікування та дисперсія можливості отримання бракованої деталі складає"
   ]
  },
  {
   "cell_type": "markdown",
   "id": "1a88c6ae",
   "metadata": {},
   "source": [
    "$$\n",
    "M(X) = \\sum x_j p x_j = 0 \\cdot 0.216 + 1 \\cdot 0.432 + 2 \\cdot 0.288 + 3 \\cdot 0.064 = 1.2\n",
    "$$"
   ]
  },
  {
   "cell_type": "markdown",
   "id": "8192c0ac",
   "metadata": {},
   "source": [
    "$$\n",
    "M(X^2) = \\sum x_j^2 p x_j = 0^2 \\cdot 0.216 + 1^2 \\cdot 0.432 + 2^2 \\cdot 0.288 + 3^2 \\cdot 0.064 = 2.16\n",
    "$$"
   ]
  },
  {
   "cell_type": "markdown",
   "id": "1258022a",
   "metadata": {},
   "source": [
    "$$\n",
    "\\sigma_x^2 = M(X^2) - M^2(X) = 2.16 - 1.2^2 = 0.72\n",
    "$$"
   ]
  },
  {
   "cell_type": "markdown",
   "id": "dba9249d",
   "metadata": {},
   "source": [
    "$$\n",
    "\\sigma_x = \\sqrt{0.72} \\approx 0.849\n",
    "$$"
   ]
  },
  {
   "cell_type": "markdown",
   "id": "484c5690",
   "metadata": {},
   "source": [
    "Математичне очікування та дисперсія можливості отримання стандартної деталі складає"
   ]
  },
  {
   "cell_type": "markdown",
   "id": "9365866d",
   "metadata": {},
   "source": [
    "$$\n",
    "M(Y) = \\sum y_i p y_i = 0 \\cdot 0.064 + 1 \\cdot 0.288 + 2 \\cdot 0.432 + 3 \\cdot 0.216 = 1.8\n",
    "$$"
   ]
  },
  {
   "cell_type": "markdown",
   "id": "63574a67",
   "metadata": {},
   "source": [
    "$$\n",
    "M(Y^2) = \\sum y_i p y_i = 0^2 \\cdot 0.064 + 1^2 \\cdot 0.288 + 2^2 \\cdot 0.432 + 3^2 \\cdot 0.216 = 3.96\n",
    "$$"
   ]
  },
  {
   "cell_type": "markdown",
   "id": "56ae6f6c",
   "metadata": {},
   "source": [
    "$$\n",
    "\\sigma_y^2 = M(Y^2) - M^2(Y) = 3.96 - 1.8^2 = 0.72\n",
    "$$"
   ]
  },
  {
   "cell_type": "markdown",
   "id": "7aa152fe",
   "metadata": {},
   "source": [
    "$$\n",
    "\\sigma_y = \\sqrt{0.72} \\approx 0.849\n",
    "$$"
   ]
  },
  {
   "cell_type": "markdown",
   "id": "d39a708d",
   "metadata": {},
   "source": [
    "Визнвчимо коофіцієнт кореляції"
   ]
  },
  {
   "cell_type": "markdown",
   "id": "87ea5d61",
   "metadata": {},
   "source": [
    "$$\n",
    "M(X) = \\sum y_i x_j p_{ij} = 2 \\cdot 0.432 + 2 \\cdot 0.288 = 1.44\n",
    "$$"
   ]
  },
  {
   "cell_type": "markdown",
   "id": "4f51dd2e",
   "metadata": {},
   "source": [
    "$$\n",
    "K_{xy} = M(XY) - M(X)M(Y) = 1.44 - 1.2 \\cdot 1.8 = -0.72\n",
    "$$"
   ]
  },
  {
   "cell_type": "markdown",
   "id": "330bcfe6",
   "metadata": {},
   "source": [
    "$$\n",
    "r_{xy}= \\frac{K_{xy}}{\\sigma_x \\cdot \\sigma_y} = \\frac{-0.72}{0.849 \\cdot 0.849} = -1\n",
    "$$"
   ]
  },
  {
   "cell_type": "markdown",
   "id": "98294e89",
   "metadata": {},
   "source": [
    "# Завдання 2"
   ]
  },
  {
   "cell_type": "markdown",
   "id": "baded51a",
   "metadata": {},
   "source": [
    "Обчислимо спочатку очікувану норму прибутку по кожній з акцій. Для цього запишемо одновимірні розподіли"
   ]
  },
  {
   "cell_type": "markdown",
   "id": "e3510837",
   "metadata": {},
   "source": [
    "$$\n",
    "М(Х) = 10 \\cdot 0.1 + 5 \\cdot 0.3 + 2 \\cdot 0.2 + 1 \\cdot 0.3 - 5 \\cdot 0.1= 2.7;\n",
    "$$"
   ]
  },
  {
   "cell_type": "markdown",
   "id": "718655a1",
   "metadata": {},
   "source": [
    "$$\n",
    "M(Y) = 20 \\cdot 0.1 + 10 \\cdot 0.3 + 2 \\cdot 0.2 - 2 \\cdot 0.3 - 10 \\cdot 0.1 = 3.8\n",
    "$$"
   ]
  },
  {
   "cell_type": "markdown",
   "id": "b6bca69d",
   "metadata": {},
   "source": [
    "Отже, очікувана середня норма прибутку від першої акції буде $2,7%$, другої — $3,8%$, тому друга є більш прибутковою. Оцінимо ступінь ризику обох акцій за допомогою середньоквадратичного відхилення. Обчислимо дисперсію за допомогою розрахункової формули. Для цього обчислимо початкові моменти $Х$ та $У$ другого порядку."
   ]
  },
  {
   "cell_type": "markdown",
   "id": "1ba48af0",
   "metadata": {},
   "source": [
    "$$\n",
    "М(Х^2) = 100 \\cdot 0.1 + 25 \\cdot 0.3 + 4 \\cdot 0.2+ 1 \\cdot 0.3 + 25 \\cdot 0.1 = 21.1\n",
    "$$"
   ]
  },
  {
   "cell_type": "markdown",
   "id": "9ed50488",
   "metadata": {},
   "source": [
    "За формулою $ D(X) = М(Х^2) - [М(Х)]^2 $ обчислимо дисперсію $X$"
   ]
  },
  {
   "cell_type": "markdown",
   "id": "73db22ca",
   "metadata": {},
   "source": [
    "$$\n",
    "D(X) = 21.1-2.72^2 = 13.81\n",
    "$$"
   ]
  },
  {
   "cell_type": "markdown",
   "id": "e820a831",
   "metadata": {},
   "source": [
    "$$\n",
    "\\sigma(X) = \\sqrt{13.81} = 3.716\n",
    "$$"
   ]
  },
  {
   "cell_type": "markdown",
   "id": "a18fde66",
   "metadata": {},
   "source": [
    "Аналогічні розрахунки для $М(У^2)$"
   ]
  },
  {
   "cell_type": "markdown",
   "id": "b3e74e1a",
   "metadata": {},
   "source": [
    "$$\n",
    "M(У^2) = 400 \\cdot 0.1 + 100 \\cdot 0.3 + 4 \\cdot 0.2 + 4 \\cdot 0.3 + 100 \\cdot 0.1 = 82\n",
    "$$"
   ]
  },
  {
   "cell_type": "markdown",
   "id": "19a3d6b7",
   "metadata": {},
   "source": [
    "$$\n",
    "D(Y) = 82 - 3,82^2 = 67,56\n",
    "$$"
   ]
  },
  {
   "cell_type": "markdown",
   "id": "9d62ee72",
   "metadata": {},
   "source": [
    "$$\n",
    "\\sigma(Y) = \\sqrt{67.56} = 8.219\n",
    "$$"
   ]
  },
  {
   "cell_type": "markdown",
   "id": "c2c72947",
   "metadata": {},
   "source": [
    "З розрахунків бачимо, що ступінь ризику, пов'язаний з акцією $У$, незважаючи на те, що вона має більший очікуваний прибуток в порівнянні з акцією $Х$, є значно більшим."
   ]
  },
  {
   "cell_type": "markdown",
   "id": "74de3419",
   "metadata": {},
   "source": [
    "Проаналізуємо наявність зв'язку між акціями $Х$ та $У$ за допомогою коефіцієнта коваріації, розрахованого за формулою $cov(X,Y) = М(Х \\cap Y) - М(Х)M(Y)$."
   ]
  },
  {
   "cell_type": "markdown",
   "id": "7c30cca4",
   "metadata": {},
   "source": [
    "Неважко перевірити, що для обчислення $M(X \\cap Y)$ достатньо по таблиці початковій просумувати всі добутки $х_іу_j$ на їх ймовірності, тому"
   ]
  },
  {
   "cell_type": "markdown",
   "id": "788c966c",
   "metadata": {},
   "source": [
    "$$\n",
    "M(X \\cap Y) = 10 \\cdot (20 \\cdot 0.01 + 10 \\cdot 0.03 + 2 \\cdot 0.02-2 \\cdot 0.03-10 \\cdot 0.01) + \n",
    "$$"
   ]
  },
  {
   "cell_type": "markdown",
   "id": "998cc65d",
   "metadata": {},
   "source": [
    "$$\n",
    "+ 5 \\cdot (20 \\cdot 0.03 + 10 \\cdot 0.09 + 2 \\cdot 0.06 - 2 \\cdot 0.09 - 10 \\cdot 0.03) + \n",
    "$$"
   ]
  },
  {
   "cell_type": "markdown",
   "id": "08a05e5a",
   "metadata": {},
   "source": [
    "$$\n",
    "+ 2 \\cdot (20 \\cdot 0.02 + 10 \\cdot 0.06 + 2 \\cdot 0.04 - 2 \\cdot 0.06 - 10 \\cdot 0.02) +\n",
    "$$"
   ]
  },
  {
   "cell_type": "markdown",
   "id": "e100d823",
   "metadata": {},
   "source": [
    "$$\n",
    " + (20 \\cdot 0.03 + 10 \\cdot 0.09 + 2 \\cdot 0.06 - 2 \\cdot 0.09 - 10 \\cdot 0.03) -\n",
    " $$"
   ]
  },
  {
   "cell_type": "markdown",
   "id": "97e268e7",
   "metadata": {},
   "source": [
    "$$\n",
    "- 5 \\cdot (20 \\cdot 0.01 + 10 \\cdot 0.03 + 2 \\cdot 0.02 - 2 \\cdot 0.03 - 10 \\cdot 0.01) = 14.08\n",
    "$$"
   ]
  },
  {
   "cell_type": "markdown",
   "id": "e1f8861f",
   "metadata": {},
   "source": [
    "$$\n",
    "cov(X, Y) = 14.08 - 2.7 \\cdot 3.8 = 3.82\n",
    "$$"
   ]
  },
  {
   "cell_type": "markdown",
   "id": "9ad5158c",
   "metadata": {},
   "source": [
    "Розрахуємо коефіцієнт кореляції за формулою "
   ]
  },
  {
   "cell_type": "markdown",
   "id": "ebcfc4d6",
   "metadata": {},
   "source": [
    "$$\n",
    "r_{X, Y}= \\frac{cov(X, Y)}{\\sigma_x \\cdot \\sigma_y} = \\frac{3.82}{3.716 \\cdot 8.219} = 0.125\n",
    "$$"
   ]
  },
  {
   "cell_type": "markdown",
   "id": "d8a9ec40",
   "metadata": {},
   "source": [
    "Мале значення коефіцієнта кореляції вказує на те, що зв'язку між очікуваними прибутками акцій $X$ та $Y$ майже немає."
   ]
  }
 ],
 "metadata": {
  "kernelspec": {
   "display_name": "Python 3 (ipykernel)",
   "language": "python",
   "name": "python3"
  },
  "language_info": {
   "codemirror_mode": {
    "name": "ipython",
    "version": 3
   },
   "file_extension": ".py",
   "mimetype": "text/x-python",
   "name": "python",
   "nbconvert_exporter": "python",
   "pygments_lexer": "ipython3",
   "version": "3.11.1"
  }
 },
 "nbformat": 4,
 "nbformat_minor": 5
}
