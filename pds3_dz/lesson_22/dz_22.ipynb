{
 "cells": [
  {
   "cell_type": "markdown",
   "id": "0fe0c26e",
   "metadata": {},
   "source": [
    "# Завдання 1"
   ]
  },
  {
   "cell_type": "markdown",
   "id": "eeb2163e",
   "metadata": {},
   "source": [
    "![Множини учнів](МатФізХім.jpg \"dz_22_1\")"
   ]
  },
  {
   "cell_type": "markdown",
   "id": "463718c7",
   "metadata": {},
   "source": [
    "### Відповідь: 32 учні мають щонайменше одну відмінну оцінку"
   ]
  },
  {
   "cell_type": "markdown",
   "id": "ecf3f1a8",
   "metadata": {},
   "source": [
    "# Завдання 2"
   ]
  },
  {
   "cell_type": "markdown",
   "id": "193fbcb4",
   "metadata": {},
   "source": [
    "![Множини днів](ДожХолВет.jpg \"dz_22_1\")"
   ]
  },
  {
   "cell_type": "markdown",
   "id": "01340c89",
   "metadata": {},
   "source": [
    "### Відповідь: З 30 днів залишилось 15 днів  гарної погоди"
   ]
  }
 ],
 "metadata": {
  "kernelspec": {
   "display_name": "Python 3 (ipykernel)",
   "language": "python",
   "name": "python3"
  },
  "language_info": {
   "codemirror_mode": {
    "name": "ipython",
    "version": 3
   },
   "file_extension": ".py",
   "mimetype": "text/x-python",
   "name": "python",
   "nbconvert_exporter": "python",
   "pygments_lexer": "ipython3",
   "version": "3.11.1"
  }
 },
 "nbformat": 4,
 "nbformat_minor": 5
}
