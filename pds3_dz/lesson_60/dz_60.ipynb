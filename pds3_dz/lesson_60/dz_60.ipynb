{
 "cells": [
  {
   "cell_type": "code",
   "execution_count": null,
   "id": "4ad2f8c2",
   "metadata": {},
   "outputs": [],
   "source": [
    "import cv2\n",
    "import numpy as np"
   ]
  },
  {
   "cell_type": "code",
   "execution_count": null,
   "id": "84b769e5",
   "metadata": {},
   "outputs": [],
   "source": [
    "dog = cv2.imread('dog.jpg')\n",
    "map = cv2.imread('map.jpg')"
   ]
  },
  {
   "cell_type": "code",
   "execution_count": null,
   "id": "1d5e29b2",
   "metadata": {},
   "outputs": [],
   "source": [
    "gray_dog = cv2.cvtColor(dog, cv2.COLOR_BGR2GRAY)\n",
    "gray_map = cv2.cvtColor(map, cv2.COLOR_BGR2GRAY)"
   ]
  },
  {
   "cell_type": "code",
   "execution_count": null,
   "id": "203e85ac",
   "metadata": {},
   "outputs": [],
   "source": [
    "sobel_kernel_x = np.array([[-1, 0, 1], [-2, 0, 2], [-1, 0, 1]])\n",
    "sobel_kernel_y = np.array([[-1, -2, -1], [0, 0, 0], [1, 2, 1]])"
   ]
  },
  {
   "cell_type": "code",
   "execution_count": null,
   "id": "fce6472f",
   "metadata": {},
   "outputs": [],
   "source": [
    "sobel_x = cv2.filter2D(gray_dog, -1, sobel_kernel_x)\n",
    "sobel_y = cv2.filter2D(gray_dog, -1, sobel_kernel_y)\n",
    "sobel_dog = sobel_x + sobel_y\n",
    "\n",
    "sobel_x = cv2.filter2D(gray_map, -1, sobel_kernel_x)\n",
    "sobel_y = cv2.filter2D(gray_map, -1, sobel_kernel_y)\n",
    "sobel_map = sobel_x + sobel_y"
   ]
  },
  {
   "cell_type": "code",
   "execution_count": null,
   "id": "57b3738f",
   "metadata": {},
   "outputs": [],
   "source": [
    "cv2.imshow('sobel_dog', sobel_dog)\n",
    "cv2.imshow('sobel_map', sobel_map)\n",
    "cv2.waitKey(0)\n",
    "cv2.destroyAllWindows()"
   ]
  },
  {
   "cell_type": "code",
   "execution_count": null,
   "id": "c8e5939b",
   "metadata": {},
   "outputs": [],
   "source": [
    "canny_dog = cv2.Canny(gray_dog, 50, 150)\n",
    "canny_map = cv2.Canny(gray_map, 50, 150)"
   ]
  },
  {
   "cell_type": "code",
   "execution_count": null,
   "id": "b00abf42",
   "metadata": {},
   "outputs": [],
   "source": [
    "roberts_kernel_x = np.array([[1, 0], [0, -1]])\n",
    "roberts_kernel_y = np.array([[0, 1], [-1, 0]])"
   ]
  },
  {
   "cell_type": "code",
   "execution_count": null,
   "id": "86a6ca15",
   "metadata": {},
   "outputs": [],
   "source": [
    "roberts_x = cv2.filter2D(gray_dog, -1, roberts_kernel_x)\n",
    "roberts_y = cv2.filter2D(gray_dog, -1, roberts_kernel_y)\n",
    "roberts_dog = roberts_x + roberts_y\n",
    "\n",
    "roberts_x = cv2.filter2D(gray_map, -1, roberts_kernel_x)\n",
    "roberts_y = cv2.filter2D(gray_map, -1, roberts_kernel_y)\n",
    "roberts_map = roberts_x + roberts_y"
   ]
  },
  {
   "cell_type": "code",
   "execution_count": null,
   "id": "8887c376",
   "metadata": {},
   "outputs": [],
   "source": [
    "cv2.imshow('roberts_dog', roberts_dog)\n",
    "cv2.imshow('roberts_map', roberts_topo)\n",
    "cv2.waitKey(0)\n",
    "cv2.destroyAllWindows()"
   ]
  },
  {
   "cell_type": "markdown",
   "id": "b41a9117",
   "metadata": {},
   "source": [
    "Фільтри мають різний рівень диталізації, Собель має найбільшу деталізацію, потім йде Робертс, Кенні має найменшу деталізацію так як сканує зображення тільки у двох тонах, білий і чорний"
   ]
  }
 ],
 "metadata": {
  "kernelspec": {
   "display_name": "Python 3 (ipykernel)",
   "language": "python",
   "name": "python3"
  },
  "language_info": {
   "codemirror_mode": {
    "name": "ipython",
    "version": 3
   },
   "file_extension": ".py",
   "mimetype": "text/x-python",
   "name": "python",
   "nbconvert_exporter": "python",
   "pygments_lexer": "ipython3",
   "version": "3.10.9"
  }
 },
 "nbformat": 4,
 "nbformat_minor": 5
}
