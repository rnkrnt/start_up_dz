{
 "cells": [
  {
   "cell_type": "code",
   "execution_count": 1,
   "id": "1dc859e7",
   "metadata": {},
   "outputs": [],
   "source": [
    "import tensorflow as tf\n",
    "from tensorflow.keras.layers import Conv2D, MaxPooling2D, Flatten, Dense\n",
    "from tensorflow.keras.callbacks import TensorBoard"
   ]
  },
  {
   "cell_type": "code",
   "execution_count": 2,
   "id": "39dfb4b7",
   "metadata": {},
   "outputs": [],
   "source": [
    "# Задаємо кількість класів\n",
    "num_classes = 10"
   ]
  },
  {
   "cell_type": "code",
   "execution_count": 3,
   "id": "dcc7049a",
   "metadata": {},
   "outputs": [],
   "source": [
    "# Задаємо розмір вхідного зображення\n",
    "input_shape = (32, 32, 3)"
   ]
  },
  {
   "cell_type": "code",
   "execution_count": 4,
   "id": "324726cd",
   "metadata": {},
   "outputs": [],
   "source": [
    "# Створюємо модель\n",
    "model = tf.keras.Sequential([\n",
    "    Conv2D(32, kernel_size=(3, 3), activation='relu', input_shape=input_shape),\n",
    "    MaxPooling2D(pool_size=(2, 2)),\n",
    "    Conv2D(64, kernel_size=(3, 3), activation='relu'),\n",
    "    MaxPooling2D(pool_size=(2, 2)),\n",
    "    Conv2D(128, kernel_size=(3, 3), activation='relu'),\n",
    "    MaxPooling2D(pool_size=(2, 2)),\n",
    "    Flatten(),\n",
    "    Dense(128, activation='relu'),\n",
    "    Dense(num_classes, activation='softmax')\n",
    "])"
   ]
  },
  {
   "cell_type": "code",
   "execution_count": 5,
   "id": "2db530a6",
   "metadata": {},
   "outputs": [],
   "source": [
    "# Компілюємо модель\n",
    "model.compile(optimizer='adam', loss='categorical_crossentropy', metrics=['accuracy'])"
   ]
  },
  {
   "cell_type": "code",
   "execution_count": 6,
   "id": "3621125b",
   "metadata": {},
   "outputs": [],
   "source": [
    "# Встановлюємо TensorBoard callback\n",
    "tensorboard_callback = TensorBoard(log_dir='logs')"
   ]
  },
  {
   "cell_type": "code",
   "execution_count": 7,
   "id": "d548462b",
   "metadata": {},
   "outputs": [],
   "source": [
    "# Завантажуємо та підготовлюємо дані\n",
    "(X_train, y_train), (X_test, y_test) = tf.keras.datasets.cifar10.load_data()\n",
    "X_train = X_train / 255.0\n",
    "X_test = X_test / 255.0\n",
    "y_train = tf.keras.utils.to_categorical(y_train, num_classes)\n",
    "y_test = tf.keras.utils.to_categorical(y_test, num_classes)"
   ]
  },
  {
   "cell_type": "code",
   "execution_count": 8,
   "id": "cc6e246c",
   "metadata": {},
   "outputs": [
    {
     "name": "stdout",
     "output_type": "stream",
     "text": [
      "Epoch 1/10\n",
      "391/391 [==============================] - 20s 47ms/step - loss: 1.6631 - accuracy: 0.3863 - val_loss: 1.4772 - val_accuracy: 0.4597\n",
      "Epoch 2/10\n",
      "391/391 [==============================] - 18s 47ms/step - loss: 1.2983 - accuracy: 0.5366 - val_loss: 1.2820 - val_accuracy: 0.5374\n",
      "Epoch 3/10\n",
      "391/391 [==============================] - 18s 46ms/step - loss: 1.1448 - accuracy: 0.5961 - val_loss: 1.1004 - val_accuracy: 0.6119\n",
      "Epoch 4/10\n",
      "391/391 [==============================] - 18s 47ms/step - loss: 1.0415 - accuracy: 0.6355 - val_loss: 1.0424 - val_accuracy: 0.6364\n",
      "Epoch 5/10\n",
      "391/391 [==============================] - 18s 47ms/step - loss: 0.9566 - accuracy: 0.6650 - val_loss: 1.0495 - val_accuracy: 0.6335\n",
      "Epoch 6/10\n",
      "391/391 [==============================] - 18s 47ms/step - loss: 0.8840 - accuracy: 0.6933 - val_loss: 0.9314 - val_accuracy: 0.6762\n",
      "Epoch 7/10\n",
      "391/391 [==============================] - 18s 47ms/step - loss: 0.8276 - accuracy: 0.7137 - val_loss: 0.9319 - val_accuracy: 0.6761\n",
      "Epoch 8/10\n",
      "391/391 [==============================] - 18s 47ms/step - loss: 0.7742 - accuracy: 0.7302 - val_loss: 0.8844 - val_accuracy: 0.6971\n",
      "Epoch 9/10\n",
      "391/391 [==============================] - 18s 47ms/step - loss: 0.7234 - accuracy: 0.7493 - val_loss: 0.8778 - val_accuracy: 0.7031\n",
      "Epoch 10/10\n",
      "391/391 [==============================] - 18s 47ms/step - loss: 0.6806 - accuracy: 0.7647 - val_loss: 0.8701 - val_accuracy: 0.7072\n"
     ]
    },
    {
     "data": {
      "text/plain": [
       "<keras.callbacks.History at 0x1baea8e9e40>"
      ]
     },
     "execution_count": 8,
     "metadata": {},
     "output_type": "execute_result"
    }
   ],
   "source": [
    "# Навчаємо модель з використанням TensorBoard callback\n",
    "model.fit(X_train, y_train, batch_size=128, epochs=10, verbose=1, validation_data=(X_test, y_test), callbacks=[tensorboard_callback])"
   ]
  }
 ],
 "metadata": {
  "kernelspec": {
   "display_name": "Python 3 (ipykernel)",
   "language": "python",
   "name": "python3"
  },
  "language_info": {
   "codemirror_mode": {
    "name": "ipython",
    "version": 3
   },
   "file_extension": ".py",
   "mimetype": "text/x-python",
   "name": "python",
   "nbconvert_exporter": "python",
   "pygments_lexer": "ipython3",
   "version": "3.10.9"
  }
 },
 "nbformat": 4,
 "nbformat_minor": 5
}
