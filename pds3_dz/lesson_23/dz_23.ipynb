{
 "cells": [
  {
   "cell_type": "markdown",
   "id": "8b11b48a",
   "metadata": {},
   "source": [
    "# Завдання 1"
   ]
  },
  {
   "cell_type": "markdown",
   "id": "b94422c5",
   "metadata": {},
   "source": [
    "A - серед трьох включених елементів виявляються два незношені елементи"
   ]
  },
  {
   "cell_type": "markdown",
   "id": "42514b48",
   "metadata": {},
   "source": [
    "$$\n",
    "p(A) = \\frac{m}{n}\n",
    "$$"
   ]
  },
  {
   "cell_type": "markdown",
   "id": "a694ba7b",
   "metadata": {},
   "source": [
    "$$\n",
    "n = C_7^3 = \\frac{7!}{3! \\cdot 4!} = \\frac{5 \\cdot 6 \\cdot 7}{1 \\cdot 2 \\cdot 3} = 35\n",
    "$$"
   ]
  },
  {
   "cell_type": "markdown",
   "id": "d0b34218",
   "metadata": {},
   "source": [
    "$$\n",
    "n = C_4^2 \\cdot C_3^1 = \\frac{4!}{2! \\cdot 2!} \\cdot \\frac{3!}{1! \\cdot 2!} = \\frac{2 \\cdot 3 \\cdot 1 \\cdot 2 \\cdot 3}{2} = 18\n",
    "$$"
   ]
  },
  {
   "cell_type": "markdown",
   "id": "0933b910",
   "metadata": {},
   "source": [
    "$$\n",
    "p(A) = \\frac{18}{35} \\approx 0.51\n",
    "$$"
   ]
  },
  {
   "cell_type": "markdown",
   "id": "3e042566",
   "metadata": {},
   "source": [
    "# Завдання 2"
   ]
  },
  {
   "cell_type": "markdown",
   "id": "792c01fe",
   "metadata": {},
   "source": [
    "$\n",
    "A_1 \n",
    "$ - подія що при аварії спрацює перший сигналізатор\n"
   ]
  },
  {
   "cell_type": "markdown",
   "id": "65e6b9ed",
   "metadata": {},
   "source": [
    "$\n",
    "p(A_1) = 0.95 \n",
    "$ "
   ]
  },
  {
   "cell_type": "markdown",
   "id": "2b94b4a2",
   "metadata": {},
   "source": [
    "$ A_2 $ - подія, що при аварії спрацює другий сигналізатор"
   ]
  },
  {
   "cell_type": "markdown",
   "id": "3ba7ecbc",
   "metadata": {},
   "source": [
    "$ p(A_2) = 0.9 $"
   ]
  },
  {
   "cell_type": "markdown",
   "id": "57be8975",
   "metadata": {},
   "source": [
    "a) $B$ - при аварії спрацює хоча б один сигналізатор"
   ]
  },
  {
   "cell_type": "markdown",
   "id": "1292a424",
   "metadata": {},
   "source": [
    "$$\n",
    "B = A_1 + A_2\n",
    "$$"
   ]
  },
  {
   "cell_type": "markdown",
   "id": "008653b0",
   "metadata": {},
   "source": [
    "Події $А_1$ і та $А_2$ сумісні, тоді"
   ]
  },
  {
   "cell_type": "markdown",
   "id": "7bc52e79",
   "metadata": {},
   "source": [
    "$$\n",
    "р(В) = р(А_1 + А_2) = р(А_1) + р(А_2) -р(А_1 \\cdot А_2)\n",
    "$$"
   ]
  },
  {
   "cell_type": "markdown",
   "id": "05060d9d",
   "metadata": {},
   "source": [
    "Події $А_1$ та $А_2$ незалежні, тому"
   ]
  },
  {
   "cell_type": "markdown",
   "id": "e29e9a1e",
   "metadata": {},
   "source": [
    "$$\n",
    "р(А_1 \\cdot А_2)=р(А_1) \\cdot р(А_2)\n",
    "$$"
   ]
  },
  {
   "cell_type": "markdown",
   "id": "6066398b",
   "metadata": {},
   "source": [
    "$$\n",
    "р(В) = р(А_1) + р(А_2) - р(А_1) \\cdot р(А_2) =\n",
    " 0.95 + 0.9 - 0.95 \\cdot 0.9 = 1.85 - 0.855 = 0.995\n",
    "$$"
   ]
  },
  {
   "cell_type": "markdown",
   "id": "b76f1dea",
   "metadata": {},
   "source": [
    "б) $С$ - при аварії спрацює тільки один сигналізатор"
   ]
  },
  {
   "cell_type": "markdown",
   "id": "5eccca68",
   "metadata": {},
   "source": [
    "$\\bar{A_i}$ - при аварії не спрацює і-ий сигналізатор, (і = 1, 2)"
   ]
  },
  {
   "cell_type": "markdown",
   "id": "72165368",
   "metadata": {},
   "source": [
    "$$\n",
    "C = A_1\\bar{A_2} + \\bar{A_1}A_2\n",
    "$$"
   ]
  },
  {
   "cell_type": "markdown",
   "id": "1d4646b0",
   "metadata": {},
   "source": [
    "Доданки цієї суми є подіями несумісними, а множники є подіями\n",
    "незалежними"
   ]
  },
  {
   "cell_type": "markdown",
   "id": "7713e6af",
   "metadata": {},
   "source": [
    "$$\n",
    "p(C) = p(A_1\\bar{A_2}) + p(\\bar{A_1}A_2) = p(A_1) \\cdot p(\\bar{A_2}) + p(\\bar{A_1}) \\cdot p(A_2)\n",
    "$$"
   ]
  },
  {
   "cell_type": "markdown",
   "id": "e1a58095",
   "metadata": {},
   "source": [
    "$p(A_1) = 0.95$ $$p(\\bar{A_1}) = 1 - p(A_1) = 1  - 0.95 = 0.05$$"
   ]
  },
  {
   "cell_type": "markdown",
   "id": "977419ac",
   "metadata": {},
   "source": [
    "$p(A_2) = 0.9$ $$p(\\bar{A_2}) = 1 - p(A_2) = 1  - 0.9 = 0.1$$"
   ]
  },
  {
   "cell_type": "markdown",
   "id": "25c5dc17",
   "metadata": {},
   "source": [
    "$$\n",
    "p(C) = 0.95 \\cdot 0.1 + 0.05 \\cdot 0.9 = 0.095 + 0.045 = 0.14\n",
    "$$"
   ]
  },
  {
   "cell_type": "markdown",
   "id": "67510174",
   "metadata": {},
   "source": [
    "# Завдання 3"
   ]
  },
  {
   "cell_type": "markdown",
   "id": "ffa0e58a",
   "metadata": {},
   "source": [
    "$А$ - навмання взятий з конвеєра виріб має вищий гатунок"
   ]
  },
  {
   "cell_type": "markdown",
   "id": "3851bc58",
   "metadata": {},
   "source": [
    "$Н_1$- навмання взятий з конвеєра виріб виготовлено на першому версті"
   ]
  },
  {
   "cell_type": "markdown",
   "id": "a93b7cc4",
   "metadata": {},
   "source": [
    "$Н_2$ - навмання взятий з конвеєра виріб виготовлено на другому версті"
   ]
  },
  {
   "cell_type": "markdown",
   "id": "769bb52a",
   "metadata": {},
   "source": [
    "а) Застосуємо формулу повної ймовірності"
   ]
  },
  {
   "cell_type": "markdown",
   "id": "9d0241c4",
   "metadata": {},
   "source": [
    "$$\n",
    "p(A) = p(H_1) \\cdot p(A/H_1) + p(H_2) \\cdot p(A/H_2)\n",
    "$$"
   ]
  },
  {
   "cell_type": "markdown",
   "id": "5be46f31",
   "metadata": {},
   "source": [
    "$$\n",
    "p(H_1) = \\frac{2}{3}; p(H_2) = \\frac{1}{3}\n",
    "$$"
   ]
  },
  {
   "cell_type": "markdown",
   "id": "96080439",
   "metadata": {},
   "source": [
    "$$\n",
    "p(A/H_1)  = \\frac{60}{100} = 0.6; p(A/H_2)  = \\frac{84}{100} = 0.84\n",
    "$$"
   ]
  },
  {
   "cell_type": "markdown",
   "id": "3af62658",
   "metadata": {},
   "source": [
    "$$\n",
    "p(A)  = \\frac{2}{3} \\cdot 0.6 + \\frac{1}{3} \\cdot 0.84 = \\frac{1}{3} \\cdot (1.2 +0.84) \\approx 0.68\n",
    "$$"
   ]
  },
  {
   "cell_type": "markdown",
   "id": "211cccf7",
   "metadata": {},
   "source": [
    "б) Застосуємо формулу Байєса"
   ]
  },
  {
   "cell_type": "markdown",
   "id": "493faf6f",
   "metadata": {},
   "source": [
    "$$\n",
    "p(H_1/A)  = \\frac{ p(H_1) \\cdot p(A/H_1) }{p(H_1) \\cdot p(A/H_1) + p(H_2) \\cdot p(A/H_2)} = \\frac{\\frac{2}{3} \\cdot 0.6}{0.68} = \\frac{0.4}{0.68} \\approx 0.59;\n",
    "$$"
   ]
  }
 ],
 "metadata": {
  "kernelspec": {
   "display_name": "Python 3 (ipykernel)",
   "language": "python",
   "name": "python3"
  },
  "language_info": {
   "codemirror_mode": {
    "name": "ipython",
    "version": 3
   },
   "file_extension": ".py",
   "mimetype": "text/x-python",
   "name": "python",
   "nbconvert_exporter": "python",
   "pygments_lexer": "ipython3",
   "version": "3.11.1"
  }
 },
 "nbformat": 4,
 "nbformat_minor": 5
}
