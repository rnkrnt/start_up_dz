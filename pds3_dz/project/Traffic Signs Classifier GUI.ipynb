{
 "cells": [
  {
   "cell_type": "code",
   "execution_count": 1,
   "id": "939b1e82",
   "metadata": {},
   "outputs": [],
   "source": [
    "import tkinter as tk\n",
    "from tkinter import filedialog\n",
    "from tkinter import *\n",
    "from PIL import ImageTk, Image\n",
    "import numpy"
   ]
  },
  {
   "cell_type": "markdown",
   "id": "ec23967e",
   "metadata": {},
   "source": [
    "## Load the trained model to classify sign"
   ]
  },
  {
   "cell_type": "code",
   "execution_count": 2,
   "id": "b12c4a08",
   "metadata": {},
   "outputs": [],
   "source": [
    "from keras.models import load_model\n",
    "model = load_model('traffic_classifier.h5')"
   ]
  },
  {
   "cell_type": "markdown",
   "id": "513a68c8",
   "metadata": {},
   "source": [
    "## Dictionary to label all traffic signs class"
   ]
  },
  {
   "cell_type": "code",
   "execution_count": 3,
   "id": "bb51f78a",
   "metadata": {},
   "outputs": [],
   "source": [
    "classes = { 1:'Обмеження швидкості (20 км/год)',\n",
    "            2:'Обмеження швидкості (30 км/год)', \n",
    "            3:'Обмеження швидкості (50 км/год)', \n",
    "            4:'Обмеження швидкості (60 км/год)', \n",
    "            5:'Обмеження швидкості (70 км/год)', \n",
    "            6:'Обмеження швидкості (80 км/год)', \n",
    "            7:'Кінець обмеження швидкості (80 км/год)', \n",
    "            8:'Обмеження швидкості (100 км/год)', \n",
    "            9:'Обмеження швидкості (120 км/год)', \n",
    "            10:'Проїзд заборонений', \n",
    "            11:'Проїзд транспортних засобів понад 3,5 тонни заборонено', \n",
    "            12:'Перехрещення з другорядною дорогою', \n",
    "            13:'Головна дорога', \n",
    "            14:'Дати дорогу', \n",
    "            15:'Проїзд без зупинки заборонено', \n",
    "            16:'Рух заборонено', \n",
    "            17:'Рух вантажних автомобілів заборонено', \n",
    "            18:'В’їзд заборонено', \n",
    "            19:'Аварійно небезпечна ділянка (інша небезпека)', \n",
    "            20:'Небезпечний поворот ліворуч', \n",
    "            21:'Небезпечний поворот праворуч', \n",
    "            22:'Декілька поворотів', \n",
    "            23:'Нерівна дорога', \n",
    "            24:'Слизька дорога', \n",
    "            25:'Звуження дороги з правого боку', \n",
    "            26:'Дорожні роботи', \n",
    "            27:'Світлофорне регулювання', \n",
    "            28:'Пішоходи', \n",
    "            29:'Діти', \n",
    "            30:'Виїзд велосипедистів', \n",
    "            31:'Остерігайтеся льоду або снігу',\n",
    "            32:'Дикі тварини', \n",
    "            33:'Кінець усіх заборон і обмежень', \n",
    "            34:'Рух праворуч', \n",
    "            35:'Рух ліворуч', \n",
    "            36:'Рух тільки прямо', \n",
    "            37:'Рух прямо або праворуч', \n",
    "            38:'Рух прямо або ліворуч', \n",
    "            39:'Об’їзд перешкоди з правого боку', \n",
    "            40:'Об’їзд перешкоди з лівого боку', \n",
    "            41:'Круговий рух', \n",
    "            42:'Кінець заборони обгону', \n",
    "            43:'Кінець заборони обгону вантажним автомобілям' }"
   ]
  },
  {
   "cell_type": "markdown",
   "id": "e0d6da0e",
   "metadata": {},
   "source": [
    "## Initialise GUI"
   ]
  },
  {
   "cell_type": "code",
   "execution_count": 4,
   "id": "9213fc6b",
   "metadata": {},
   "outputs": [],
   "source": [
    "top=tk.Tk()\n",
    "top.geometry('800x600')\n",
    "top.title('Traffic sign classification')\n",
    "top.configure(background='#CDCDCD')\n",
    "\n",
    "label=Label(top,background='#CDCDCD', font=('arial',15,'bold'))\n",
    "sign_image = Label(top)"
   ]
  },
  {
   "cell_type": "code",
   "execution_count": 5,
   "id": "bf420f63",
   "metadata": {},
   "outputs": [],
   "source": [
    "def classify(file_path):\n",
    "    global label_packed\n",
    "    image = Image.open(file_path)\n",
    "    image = image.resize((30,30))\n",
    "    image = numpy.expand_dims(image, axis=0)\n",
    "    image = numpy.array(image)\n",
    "    pred = model.predict_classes([image])[0]\n",
    "    sign = classes[pred+1]\n",
    "    print(sign)\n",
    "    label.configure(foreground='#011638', text=sign)"
   ]
  },
  {
   "cell_type": "code",
   "execution_count": 6,
   "id": "bfc7bbdd",
   "metadata": {},
   "outputs": [],
   "source": [
    "def show_classify_button(file_path):\n",
    "    classify_b=Button(top,text=\"Розпізнати фото\",command=lambda: classify(file_path),padx=10,pady=5)\n",
    "    classify_b.configure(background='#364156', foreground='white',font=('arial',10,'bold'))\n",
    "    classify_b.place(relx=0.79,rely=0.46)"
   ]
  },
  {
   "cell_type": "code",
   "execution_count": 7,
   "id": "4f07f7f6",
   "metadata": {},
   "outputs": [],
   "source": [
    "def upload_image():\n",
    "    try:\n",
    "        file_path=filedialog.askopenfilename()\n",
    "        uploaded=Image.open(file_path)\n",
    "        uploaded.thumbnail(((top.winfo_width()/2.25),(top.winfo_height()/2.25)))\n",
    "        \n",
    "        im=ImageTk.PhotoImage(uploaded)\n",
    "        sign_image.configure(image=im)\n",
    "        sign_image.image=im\n",
    "        label.configure(text='')\n",
    "        show_classify_button(file_path)\n",
    "    except:\n",
    "        pass"
   ]
  },
  {
   "cell_type": "code",
   "execution_count": 8,
   "id": "df56f21d",
   "metadata": {},
   "outputs": [],
   "source": [
    "upload=Button(top,text=\"Завантажити фото дорожного знаку\",command=upload_image,padx=10,pady=5)\n",
    "upload.configure(background='#364156', foreground='white',font=('arial',10,'bold'))"
   ]
  },
  {
   "cell_type": "code",
   "execution_count": 9,
   "id": "4e29ea33",
   "metadata": {},
   "outputs": [],
   "source": [
    "upload.pack(side=BOTTOM,pady=50)\n",
    "sign_image.pack(side=BOTTOM,expand=True)\n",
    "label.pack(side=BOTTOM,expand=True)\n",
    "heading = Label(top, text=\"Розпізнай дорожний знак\",pady=20, font=('arial',20,'bold'))\n",
    "heading.configure(background='#CDCDCD',foreground='#364156')\n",
    "heading.pack()\n",
    "top.mainloop()"
   ]
  }
 ],
 "metadata": {
  "kernelspec": {
   "display_name": "Python 3 (ipykernel)",
   "language": "python",
   "name": "python3"
  },
  "language_info": {
   "codemirror_mode": {
    "name": "ipython",
    "version": 3
   },
   "file_extension": ".py",
   "mimetype": "text/x-python",
   "name": "python",
   "nbconvert_exporter": "python",
   "pygments_lexer": "ipython3",
   "version": "3.10.9"
  }
 },
 "nbformat": 4,
 "nbformat_minor": 5
}
