{
 "cells": [
  {
   "cell_type": "markdown",
   "id": "55dc124b",
   "metadata": {},
   "source": [
    "| year | rank   |       company         | revenue | profit |\n",
    "| :--- | :----: |         :----:        |  :----: |   ---: |\n",
    "| 1955 |   229  | Norton                |  135.5  |   N.A. |\n",
    "| 1955 |   291  | Schlitz Brewing       |  100.0  |   N.A. |\n",
    "| 1955 |   295  | Pacific Vegetable Oil |  97.9   |   N.A. |\n",
    "| 1955 |   297  | Liebmann Breweries\t|  96.0   |   N.A. |\n",
    "| 1955 |   353  | Minneapolis-Moline\t|  77.4   |   N.A. |"
   ]
  },
  {
   "cell_type": "code",
   "execution_count": 3,
   "id": "3f984c5f",
   "metadata": {},
   "outputs": [
    {
     "name": "stdout",
     "output_type": "stream",
     "text": [
      "726 ms ± 31.1 ms per loop (mean ± std. dev. of 7 runs, 1 loop each)\n"
     ]
    }
   ],
   "source": [
    "%%timeit\n",
    "import random\n",
    "\n",
    "def selection_sort(data):\n",
    "    for scanIndex in range(0, len(data)):\n",
    "        minIndex = scanIndex\n",
    "        for compIndex in range(scanIndex + 1, len(data)):\n",
    "            if data[compIndex] < data[minIndex]:\n",
    "                minIndex = compIndex\n",
    "        if minIndex != scanIndex:\n",
    "            data[scanIndex], data[minIndex] = data[minIndex], data[scanIndex]\n",
    "\n",
    "int_list = []\n",
    "for i in range(5000):\n",
    "    int_list.append(random.randint(0, 1000))\n",
    "\n",
    "selection_sort(int_list)"
   ]
  }
 ],
 "metadata": {
  "kernelspec": {
   "display_name": "Python 3 (ipykernel)",
   "language": "python",
   "name": "python3"
  },
  "language_info": {
   "codemirror_mode": {
    "name": "ipython",
    "version": 3
   },
   "file_extension": ".py",
   "mimetype": "text/x-python",
   "name": "python",
   "nbconvert_exporter": "python",
   "pygments_lexer": "ipython3",
   "version": "3.11.1"
  }
 },
 "nbformat": 4,
 "nbformat_minor": 5
}
