{
 "cells": [
  {
   "cell_type": "code",
   "execution_count": 1,
   "id": "6c2f3524",
   "metadata": {},
   "outputs": [],
   "source": [
    "import pandas as pd\n",
    "import numpy as np\n",
    "from sklearn.linear_model import LinearRegression, Lasso, Ridge, ElasticNet\n",
    "from sklearn.model_selection import train_test_split"
   ]
  },
  {
   "cell_type": "code",
   "execution_count": 2,
   "id": "fb6b6374",
   "metadata": {},
   "outputs": [
    {
     "data": {
      "text/html": [
       "<div>\n",
       "<style scoped>\n",
       "    .dataframe tbody tr th:only-of-type {\n",
       "        vertical-align: middle;\n",
       "    }\n",
       "\n",
       "    .dataframe tbody tr th {\n",
       "        vertical-align: top;\n",
       "    }\n",
       "\n",
       "    .dataframe thead th {\n",
       "        text-align: right;\n",
       "    }\n",
       "</style>\n",
       "<table border=\"1\" class=\"dataframe\">\n",
       "  <thead>\n",
       "    <tr style=\"text-align: right;\">\n",
       "      <th></th>\n",
       "      <th>8</th>\n",
       "      <th>?</th>\n",
       "      <th>?.1</th>\n",
       "      <th>Lakewoodcity</th>\n",
       "      <th>1</th>\n",
       "      <th>0.19</th>\n",
       "      <th>0.33</th>\n",
       "      <th>0.02</th>\n",
       "      <th>0.9</th>\n",
       "      <th>0.12</th>\n",
       "      <th>...</th>\n",
       "      <th>0.12.2</th>\n",
       "      <th>0.26.1</th>\n",
       "      <th>0.2.1</th>\n",
       "      <th>0.06.3</th>\n",
       "      <th>0.04.2</th>\n",
       "      <th>0.9.1</th>\n",
       "      <th>0.5.2</th>\n",
       "      <th>0.32.2</th>\n",
       "      <th>0.14.3</th>\n",
       "      <th>0.2.2</th>\n",
       "    </tr>\n",
       "  </thead>\n",
       "  <tbody>\n",
       "    <tr>\n",
       "      <th>0</th>\n",
       "      <td>53</td>\n",
       "      <td>?</td>\n",
       "      <td>?</td>\n",
       "      <td>Tukwilacity</td>\n",
       "      <td>1</td>\n",
       "      <td>0.00</td>\n",
       "      <td>0.16</td>\n",
       "      <td>0.12</td>\n",
       "      <td>0.74</td>\n",
       "      <td>0.45</td>\n",
       "      <td>...</td>\n",
       "      <td>0.02</td>\n",
       "      <td>0.12</td>\n",
       "      <td>0.45</td>\n",
       "      <td>?</td>\n",
       "      <td>?</td>\n",
       "      <td>?</td>\n",
       "      <td>?</td>\n",
       "      <td>0.0</td>\n",
       "      <td>?</td>\n",
       "      <td>0.67</td>\n",
       "    </tr>\n",
       "    <tr>\n",
       "      <th>1</th>\n",
       "      <td>24</td>\n",
       "      <td>?</td>\n",
       "      <td>?</td>\n",
       "      <td>Aberdeentown</td>\n",
       "      <td>1</td>\n",
       "      <td>0.00</td>\n",
       "      <td>0.42</td>\n",
       "      <td>0.49</td>\n",
       "      <td>0.56</td>\n",
       "      <td>0.17</td>\n",
       "      <td>...</td>\n",
       "      <td>0.01</td>\n",
       "      <td>0.21</td>\n",
       "      <td>0.02</td>\n",
       "      <td>?</td>\n",
       "      <td>?</td>\n",
       "      <td>?</td>\n",
       "      <td>?</td>\n",
       "      <td>0.0</td>\n",
       "      <td>?</td>\n",
       "      <td>0.43</td>\n",
       "    </tr>\n",
       "    <tr>\n",
       "      <th>2</th>\n",
       "      <td>34</td>\n",
       "      <td>5</td>\n",
       "      <td>81440</td>\n",
       "      <td>Willingborotownship</td>\n",
       "      <td>1</td>\n",
       "      <td>0.04</td>\n",
       "      <td>0.77</td>\n",
       "      <td>1.00</td>\n",
       "      <td>0.08</td>\n",
       "      <td>0.12</td>\n",
       "      <td>...</td>\n",
       "      <td>0.02</td>\n",
       "      <td>0.39</td>\n",
       "      <td>0.28</td>\n",
       "      <td>?</td>\n",
       "      <td>?</td>\n",
       "      <td>?</td>\n",
       "      <td>?</td>\n",
       "      <td>0.0</td>\n",
       "      <td>?</td>\n",
       "      <td>0.12</td>\n",
       "    </tr>\n",
       "    <tr>\n",
       "      <th>3</th>\n",
       "      <td>42</td>\n",
       "      <td>95</td>\n",
       "      <td>6096</td>\n",
       "      <td>Bethlehemtownship</td>\n",
       "      <td>1</td>\n",
       "      <td>0.01</td>\n",
       "      <td>0.55</td>\n",
       "      <td>0.02</td>\n",
       "      <td>0.95</td>\n",
       "      <td>0.09</td>\n",
       "      <td>...</td>\n",
       "      <td>0.04</td>\n",
       "      <td>0.09</td>\n",
       "      <td>0.02</td>\n",
       "      <td>?</td>\n",
       "      <td>?</td>\n",
       "      <td>?</td>\n",
       "      <td>?</td>\n",
       "      <td>0.0</td>\n",
       "      <td>?</td>\n",
       "      <td>0.03</td>\n",
       "    </tr>\n",
       "    <tr>\n",
       "      <th>4</th>\n",
       "      <td>6</td>\n",
       "      <td>?</td>\n",
       "      <td>?</td>\n",
       "      <td>SouthPasadenacity</td>\n",
       "      <td>1</td>\n",
       "      <td>0.02</td>\n",
       "      <td>0.28</td>\n",
       "      <td>0.06</td>\n",
       "      <td>0.54</td>\n",
       "      <td>1.00</td>\n",
       "      <td>...</td>\n",
       "      <td>0.01</td>\n",
       "      <td>0.58</td>\n",
       "      <td>0.10</td>\n",
       "      <td>?</td>\n",
       "      <td>?</td>\n",
       "      <td>?</td>\n",
       "      <td>?</td>\n",
       "      <td>0.0</td>\n",
       "      <td>?</td>\n",
       "      <td>0.14</td>\n",
       "    </tr>\n",
       "  </tbody>\n",
       "</table>\n",
       "<p>5 rows × 128 columns</p>\n",
       "</div>"
      ],
      "text/plain": [
       "    8   ?    ?.1         Lakewoodcity  1  0.19  0.33  0.02   0.9  0.12  ...  \\\n",
       "0  53   ?      ?          Tukwilacity  1  0.00  0.16  0.12  0.74  0.45  ...   \n",
       "1  24   ?      ?         Aberdeentown  1  0.00  0.42  0.49  0.56  0.17  ...   \n",
       "2  34   5  81440  Willingborotownship  1  0.04  0.77  1.00  0.08  0.12  ...   \n",
       "3  42  95   6096    Bethlehemtownship  1  0.01  0.55  0.02  0.95  0.09  ...   \n",
       "4   6   ?      ?    SouthPasadenacity  1  0.02  0.28  0.06  0.54  1.00  ...   \n",
       "\n",
       "   0.12.2  0.26.1  0.2.1  0.06.3  0.04.2  0.9.1  0.5.2  0.32.2  0.14.3  0.2.2  \n",
       "0    0.02    0.12   0.45       ?       ?      ?      ?     0.0       ?   0.67  \n",
       "1    0.01    0.21   0.02       ?       ?      ?      ?     0.0       ?   0.43  \n",
       "2    0.02    0.39   0.28       ?       ?      ?      ?     0.0       ?   0.12  \n",
       "3    0.04    0.09   0.02       ?       ?      ?      ?     0.0       ?   0.03  \n",
       "4    0.01    0.58   0.10       ?       ?      ?      ?     0.0       ?   0.14  \n",
       "\n",
       "[5 rows x 128 columns]"
      ]
     },
     "execution_count": 2,
     "metadata": {},
     "output_type": "execute_result"
    }
   ],
   "source": [
    "df = pd.read_csv('communities.csv')\n",
    "df.head()"
   ]
  },
  {
   "cell_type": "code",
   "execution_count": 3,
   "id": "c8b25867",
   "metadata": {},
   "outputs": [],
   "source": [
    "df = df[[col_name for col_name in df.columns if df[col_name].dtype in (np.int64, np.float64)]]"
   ]
  },
  {
   "cell_type": "code",
   "execution_count": 4,
   "id": "4de6650c",
   "metadata": {},
   "outputs": [],
   "source": [
    "x = df.loc[: , df.columns[1]:]\n",
    "y = df[df.columns[0]]"
   ]
  },
  {
   "cell_type": "code",
   "execution_count": 5,
   "id": "b07ef356",
   "metadata": {},
   "outputs": [],
   "source": [
    "x_train, x_test, y_train, y_test = train_test_split(x, y, test_size=0.2, random_state=1)"
   ]
  },
  {
   "cell_type": "code",
   "execution_count": 6,
   "id": "5b9f1c3a",
   "metadata": {},
   "outputs": [],
   "source": [
    "lin_reg = LinearRegression().fit(x_train, y_train)"
   ]
  },
  {
   "cell_type": "code",
   "execution_count": 7,
   "id": "c5097ecd",
   "metadata": {},
   "outputs": [
    {
     "name": "stdout",
     "output_type": "stream",
     "text": [
      "Train score: 0.4865618958907445\n",
      "Test score: 0.4304920168819538\n"
     ]
    }
   ],
   "source": [
    "print('Train score:', lin_reg.score(x_train, y_train))\n",
    "print('Test score:', lin_reg.score(x_test, y_test))"
   ]
  },
  {
   "cell_type": "markdown",
   "id": "7ae192e2",
   "metadata": {},
   "source": [
    "# Lasso"
   ]
  },
  {
   "cell_type": "code",
   "execution_count": 9,
   "id": "6bf3caa3",
   "metadata": {},
   "outputs": [
    {
     "name": "stdout",
     "output_type": "stream",
     "text": [
      "Train score: 0.46764962807389665\n",
      "Test score: 0.4308845614474732\n"
     ]
    }
   ],
   "source": [
    "lasso = Lasso(alpha=0.01).fit(x_train, y_train)\n",
    "print('Train score:', lasso.score(x_train, y_train))\n",
    "print('Test score:', lasso.score(x_test, y_test))"
   ]
  },
  {
   "cell_type": "markdown",
   "id": "8fdd0193",
   "metadata": {},
   "source": [
    "# Ridge"
   ]
  },
  {
   "cell_type": "code",
   "execution_count": 11,
   "id": "fc75378a",
   "metadata": {},
   "outputs": [
    {
     "name": "stdout",
     "output_type": "stream",
     "text": [
      "Train score: 0.4786965162794622\n",
      "Test score: 0.42985860581324487\n"
     ]
    }
   ],
   "source": [
    "ridge = Ridge(alpha=0.5).fit(x_train, y_train)\n",
    "print('Train score:', ridge.score(x_train, y_train))\n",
    "print('Test score:', ridge.score(x_test, y_test))"
   ]
  },
  {
   "cell_type": "markdown",
   "id": "40eadff9",
   "metadata": {},
   "source": [
    "# ElasticNet"
   ]
  },
  {
   "cell_type": "code",
   "execution_count": 12,
   "id": "ae9096b9",
   "metadata": {},
   "outputs": [
    {
     "name": "stdout",
     "output_type": "stream",
     "text": [
      "Train score: 0.48654619794976517\n",
      "Test score: 0.4308357433508968\n"
     ]
    },
    {
     "name": "stderr",
     "output_type": "stream",
     "text": [
      "C:\\Users\\dmitr\\AppData\\Local\\Temp\\ipykernel_868\\2482634422.py:1: UserWarning: With alpha=0, this algorithm does not converge well. You are advised to use the LinearRegression estimator\n",
      "  elastic_net = ElasticNet(alpha=0, l1_ratio=1).fit(x_train, y_train)\n",
      "D:\\python_projects\\python_3_10_9\\venv\\lib\\site-packages\\sklearn\\linear_model\\_coordinate_descent.py:631: UserWarning: Coordinate descent with no regularization may lead to unexpected results and is discouraged.\n",
      "  model = cd_fast.enet_coordinate_descent(\n",
      "D:\\python_projects\\python_3_10_9\\venv\\lib\\site-packages\\sklearn\\linear_model\\_coordinate_descent.py:631: ConvergenceWarning: Objective did not converge. You might want to increase the number of iterations, check the scale of the features or consider increasing regularisation. Duality gap: 1.109e+05, tolerance: 4.321e+01 Linear regression models with null weight for the l1 regularization term are more efficiently fitted using one of the solvers implemented in sklearn.linear_model.Ridge/RidgeCV instead.\n",
      "  model = cd_fast.enet_coordinate_descent(\n"
     ]
    }
   ],
   "source": [
    "elastic_net = ElasticNet(alpha=0, l1_ratio=1).fit(x_train, y_train)\n",
    "print('Train score:', elastic_net.score(x_train, y_train))\n",
    "print('Test score:', elastic_net.score(x_test, y_test))"
   ]
  },
  {
   "cell_type": "markdown",
   "id": "d2e78110",
   "metadata": {},
   "source": [
    "### Жоден з методів регуляризації не покращує показники моделі"
   ]
  }
 ],
 "metadata": {
  "kernelspec": {
   "display_name": "Python 3 (ipykernel)",
   "language": "python",
   "name": "python3"
  },
  "language_info": {
   "codemirror_mode": {
    "name": "ipython",
    "version": 3
   },
   "file_extension": ".py",
   "mimetype": "text/x-python",
   "name": "python",
   "nbconvert_exporter": "python",
   "pygments_lexer": "ipython3",
   "version": "3.10.9"
  }
 },
 "nbformat": 4,
 "nbformat_minor": 5
}
