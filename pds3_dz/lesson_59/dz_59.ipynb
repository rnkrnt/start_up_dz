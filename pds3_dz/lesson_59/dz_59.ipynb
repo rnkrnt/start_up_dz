{
 "cells": [
  {
   "cell_type": "code",
   "execution_count": null,
   "id": "b13cd186",
   "metadata": {},
   "outputs": [],
   "source": [
    "import cv2\n",
    "import numpy as np"
   ]
  },
  {
   "cell_type": "code",
   "execution_count": null,
   "id": "32df7449",
   "metadata": {},
   "outputs": [],
   "source": [
    "img = cv2.imread('homi.jpg')"
   ]
  },
  {
   "cell_type": "code",
   "execution_count": null,
   "id": "963061d0",
   "metadata": {},
   "outputs": [],
   "source": [
    "gray_img = cv2.cvtColor(img, cv2.COLOR_BGR2GRAY)"
   ]
  },
  {
   "cell_type": "code",
   "execution_count": null,
   "id": "d1bfd413",
   "metadata": {},
   "outputs": [],
   "source": [
    "sobelx = cv2.Sobel(gray_img, cv2.CV_64F, 1, 0, ksize=3)\n",
    "sobely = cv2.Sobel(gray_img, cv2.CV_64F, 0, 1, ksize=3)"
   ]
  },
  {
   "cell_type": "code",
   "execution_count": null,
   "id": "8590a658",
   "metadata": {},
   "outputs": [],
   "source": [
    "cv2.imshow('Original', img)\n",
    "cv2.imshow('Sobel X', sobelx)\n",
    "cv2.imshow('Sobel Y', sobely)\n",
    "cv2.waitKey(0)\n",
    "cv2.destroyAllWindows()"
   ]
  },
  {
   "cell_type": "code",
   "execution_count": null,
   "id": "0373602c",
   "metadata": {},
   "outputs": [],
   "source": [
    "median = cv2.medianBlur(img, 5)"
   ]
  },
  {
   "cell_type": "code",
   "execution_count": null,
   "id": "c466bc77",
   "metadata": {},
   "outputs": [],
   "source": [
    "cv2.imshow('Original', img)\n",
    "cv2.imshow('Median Filter', median)\n",
    "cv2.waitKey(0)\n",
    "cv2.destroyAllWindows()"
   ]
  },
  {
   "cell_type": "markdown",
   "id": "6a1dac91",
   "metadata": {},
   "source": [
    "Фільтр Собеля допомагає виявити контури та границі на зображенні та може бути корисним для таких завдань, як виявлення країв об'єктів на зображенні.\n",
    "Медіальний фільтр, з іншого боку, використовується для зменшення шуму на зображенні. Він замінює кожен піксель на медіанне значення пікселів у вибраній області (наприклад, 3x3 або 5x5). Медіальний фільтр може бути корисним для зменшення випадкового шуму на зображеннях та покращення якості зображення.\n",
    "Отже, основна різниця між фільтром Собеля та медіальним фільтром полягає у тому, що фільтр Собеля використовується для виявлення границь на зображенні, тоді як медіальний фільтр використовується для зменшення шуму на зображенні. Обидва методи можуть бути корисними для обробки зображень, в залежності від конкретної задачі, яку необхідно вирішити."
   ]
  },
  {
   "cell_type": "code",
   "execution_count": null,
   "id": "1c730acd",
   "metadata": {},
   "outputs": [],
   "source": []
  }
 ],
 "metadata": {
  "kernelspec": {
   "display_name": "Python 3 (ipykernel)",
   "language": "python",
   "name": "python3"
  },
  "language_info": {
   "codemirror_mode": {
    "name": "ipython",
    "version": 3
   },
   "file_extension": ".py",
   "mimetype": "text/x-python",
   "name": "python",
   "nbconvert_exporter": "python",
   "pygments_lexer": "ipython3",
   "version": "3.10.9"
  }
 },
 "nbformat": 4,
 "nbformat_minor": 5
}
